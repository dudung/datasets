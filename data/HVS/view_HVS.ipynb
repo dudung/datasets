import pandas as pd
import matplotlib.pyplot as plt

path = "../data/HVS"

plt.figure(figsize=(8, 6))
  pre = ['HVS_V05', 'HVS_V08', 'HVS_V10', 'HVS_V15',
       'HVS_V20', 'HVS_V40', 'HVS_V80']

for i, V in enumerate(pre):
    plt.subplot(3, 3, i+1)
    for j in range(1, 10+1):
        S = f's{j:02d}'
        f = path + V + S + '.csv'
        df = pd.read_csv(f, header=0)
        plt.plot(df['Strain'], df['Stress'])
plt.show()




      
